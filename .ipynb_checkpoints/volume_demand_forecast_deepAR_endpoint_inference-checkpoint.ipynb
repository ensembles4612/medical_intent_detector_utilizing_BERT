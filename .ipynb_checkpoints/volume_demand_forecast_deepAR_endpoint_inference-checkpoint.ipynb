{
 "cells": [
  {
   "cell_type": "code",
   "execution_count": null,
   "metadata": {},
   "outputs": [],
   "source": []
  },
  {
   "cell_type": "code",
   "execution_count": 3,
   "metadata": {},
   "outputs": [
    {
     "data": {
      "text/plain": [
       "'{\"predictions\":[{\"quantiles\":{\"0.9\":[1890.9265136719,1867.8132324219,2033.0036621094,2107.3288574219,2177.2241210938,2205.8798828125,2208.4426269531,2068.5144042969,2149.599609375,2171.4392089844,2233.701171875,2210.1220703125],\"0.5\":[830.7008666992,1373.9489746094,1429.7987060547,1508.3709716797,1562.9676513672,1594.1791992188,1641.9381103516,1528.3635253906,1578.1357421875,1535.7589111328,1467.7604980469,1542.6149902344]},\"mean\":[821.3439331055,1352.5205078125,1439.2410888672,1526.8978271484,1582.6636962891,1608.3604736328,1620.4918212891,1512.2180175781,1582.4641113281,1533.2131347656,1486.3603515625,1524.2233886719]}]}'"
      ]
     },
     "execution_count": 3,
     "metadata": {},
     "output_type": "execute_result"
    }
   ],
   "source": [
    "#predict a new agency_01, sku_07 : [0,6]\n",
    "import json\n",
    "import pandas as pd\n",
    "request_Agency2_sku7 = json.dumps(\n",
    "{\n",
    "    \"instances\":[\n",
    "    \n",
    "        {\n",
    "            'start':str(pd.Timestamp(\"2017-01-01 00:00:00\")),\n",
    "            'target':[],\n",
    "            'cat':[1,6],\n",
    "            'dynamic_feat':[[1321,1464,1432,1422,1422,1443,1432,1432,1403,1466,1428,1426], #median sales\n",
    "                            [20,47,117,128,146,104,120,148,174,99,91,114]] #median promotions\n",
    "        }\n",
    "    ],\n",
    "    \n",
    "    \"configuration\":{'num_samples':100, 'output_types':['mean', 'quantiles'],'quantiles': ['0.5', '0.9']}\n",
    "    \n",
    "}\n",
    ") \n",
    "endpoint_name = 'predict-volume-deepar-endpoint'\n",
    "\n",
    "\n",
    "import boto3\n",
    "client = boto3.client('sagemaker-runtime')\n",
    "response = client.invoke_endpoint(\n",
    "    EndpointName=endpoint_name,\n",
    "    Body=request_Agency2_sku7)\n",
    "\n",
    "content = response['Body'].read().decode('utf-8')\n",
    "content"
   ]
  },
  {
   "cell_type": "code",
   "execution_count": 14,
   "metadata": {},
   "outputs": [],
   "source": [
    "##### Lambda Function\n",
    "# attention: edit permission -- IAM execution role -- VolumeForecastDeeparLambda-role-h7l0n5ri so that it includes the policy from https://aws.amazon.com/blogs/machine-learning/call-an-amazon-sagemaker-model-endpoint-using-amazon-api-gateway-and-aws-lambda/, which gives your Lambda function permission to invoke a model endpoint.\n",
    "\n",
    "import os\n",
    "import io\n",
    "import boto3\n",
    "import json\n",
    "import csv\n",
    "\n",
    "\n",
    "# grab environment variables\n",
    "ENDPOINT_NAME = os.environ['ENDPOINT_NAME']\n",
    "runtime= boto3.client('sagemaker-runtime')\n",
    "\n",
    "def lambda_handler(event, context):\n",
    "    print(\"Received event: \" + json.dumps(event, indent=2))\n",
    "    data = json.dumps(event)\n",
    "\n",
    "    response = runtime.invoke_endpoint(EndpointName=ENDPOINT_NAME, Body=data)\n",
    "    print(response)\n",
    "    result = json.loads(response['Body'].read().decode('utf-8'))\n",
    "\n",
    "    return result\n"
   ]
  },
  {
   "cell_type": "code",
   "execution_count": 15,
   "metadata": {},
   "outputs": [
    {
     "ename": "NameError",
     "evalue": "name 'context' is not defined",
     "output_type": "error",
     "traceback": [
      "\u001b[0;31m---------------------------------------------------------------------------\u001b[0m",
      "\u001b[0;31mNameError\u001b[0m                                 Traceback (most recent call last)",
      "\u001b[0;32m<ipython-input-15-37e1dbe00bb9>\u001b[0m in \u001b[0;36m<module>\u001b[0;34m\u001b[0m\n\u001b[0;32m----> 1\u001b[0;31m \u001b[0mlambda_handler\u001b[0m\u001b[0;34m(\u001b[0m\u001b[0mrequest_Agency2_sku7\u001b[0m\u001b[0;34m,\u001b[0m\u001b[0mcontext\u001b[0m\u001b[0;34m)\u001b[0m\u001b[0;34m\u001b[0m\u001b[0;34m\u001b[0m\u001b[0m\n\u001b[0m",
      "\u001b[0;31mNameError\u001b[0m: name 'context' is not defined"
     ]
    }
   ],
   "source": [
    "#\n",
    "{\n",
    "  \"instances\": [\n",
    "    {\n",
    "      \"start\": \"2017-01-01 00:00:00\",\n",
    "      \"target\": [],\n",
    "      \"cat\": [\n",
    "        0,\n",
    "        6\n",
    "      ],\n",
    "      \"dynamic_feat\": [\n",
    "        [\n",
    "          1321,\n",
    "          1464,\n",
    "          1432,\n",
    "          1422,\n",
    "          1422,\n",
    "          1443,\n",
    "          1432,\n",
    "          1432,\n",
    "          1403,\n",
    "          1466,\n",
    "          1428,\n",
    "          1426\n",
    "        ],\n",
    "        [\n",
    "          20,\n",
    "          47,\n",
    "          117,\n",
    "          128,\n",
    "          146,\n",
    "          104,\n",
    "          120,\n",
    "          148,\n",
    "          174,\n",
    "          99,\n",
    "          91,\n",
    "          114\n",
    "        ]\n",
    "      ]\n",
    "    }\n",
    "  ],\n",
    "  \"configuration\": {\n",
    "    \"num_samples\": 100,\n",
    "    \"output_types\": [\n",
    "      \"mean\",\n",
    "      \"quantiles\"\n",
    "    ],\n",
    "    \"quantiles\": [\n",
    "      \"0.5\",\n",
    "      \"0.9\"\n",
    "    ]\n",
    "  }\n",
    "}"
   ]
  }
 ],
 "metadata": {
  "kernelspec": {
   "display_name": "conda_python3",
   "language": "python",
   "name": "conda_python3"
  },
  "language_info": {
   "codemirror_mode": {
    "name": "ipython",
    "version": 3
   },
   "file_extension": ".py",
   "mimetype": "text/x-python",
   "name": "python",
   "nbconvert_exporter": "python",
   "pygments_lexer": "ipython3",
   "version": "3.6.10"
  }
 },
 "nbformat": 4,
 "nbformat_minor": 4
}
